{
 "cells": [
  {
   "cell_type": "code",
   "execution_count": 1,
   "metadata": {
    "collapsed": true
   },
   "outputs": [],
   "source": [
    "from array import array"
   ]
  },
  {
   "cell_type": "code",
   "execution_count": 2,
   "metadata": {},
   "outputs": [
    {
     "name": "stdout",
     "output_type": "stream",
     "text": [
      "array('d', [97.0, 98.0])\n",
      "98.0\n"
     ]
    }
   ],
   "source": [
    "scores = array('d')\n",
    "scores.append(97)\n",
    "scores.append(98)\n",
    "print(scores)\n",
    "print(scores[1])"
   ]
  },
  {
   "cell_type": "code",
   "execution_count": 14,
   "metadata": {},
   "outputs": [
    {
     "name": "stdout",
     "output_type": "stream",
     "text": [
      "2\n"
     ]
    }
   ],
   "source": [
    "print(len(scores))"
   ]
  },
  {
   "cell_type": "code",
   "execution_count": 3,
   "metadata": {
    "collapsed": true
   },
   "outputs": [],
   "source": [
    "names = ['Alex','Adam','Olive']"
   ]
  },
  {
   "cell_type": "code",
   "execution_count": 8,
   "metadata": {},
   "outputs": [
    {
     "name": "stdout",
     "output_type": "stream",
     "text": [
      "4\n",
      "['Alex', 'James', 'Adam', 'Olive']\n"
     ]
    }
   ],
   "source": [
    "print(len(names))\n",
    "print(names)"
   ]
  },
  {
   "cell_type": "code",
   "execution_count": 9,
   "metadata": {},
   "outputs": [],
   "source": [
    "names.insert(1,'James')"
   ]
  },
  {
   "cell_type": "code",
   "execution_count": 10,
   "metadata": {},
   "outputs": [
    {
     "name": "stdout",
     "output_type": "stream",
     "text": [
      "['Alex', 'James', 'James', 'Adam', 'Olive']\n"
     ]
    }
   ],
   "source": [
    "print(names)"
   ]
  },
  {
   "cell_type": "code",
   "execution_count": 11,
   "metadata": {},
   "outputs": [
    {
     "name": "stdout",
     "output_type": "stream",
     "text": [
      "None\n"
     ]
    }
   ],
   "source": [
    "print(names.sort())"
   ]
  },
  {
   "cell_type": "code",
   "execution_count": 12,
   "metadata": {
    "collapsed": true
   },
   "outputs": [],
   "source": [
    "names.sort()"
   ]
  },
  {
   "cell_type": "code",
   "execution_count": 13,
   "metadata": {},
   "outputs": [
    {
     "name": "stdout",
     "output_type": "stream",
     "text": [
      "['Adam', 'Alex', 'James', 'James', 'Olive']\n"
     ]
    }
   ],
   "source": [
    "print(names)"
   ]
  },
  {
   "cell_type": "code",
   "execution_count": 15,
   "metadata": {
    "collapsed": true
   },
   "outputs": [],
   "source": [
    "person = {'first':'Adam'}"
   ]
  },
  {
   "cell_type": "code",
   "execution_count": 16,
   "metadata": {
    "collapsed": true
   },
   "outputs": [],
   "source": [
    "person['last'] = 'Rollo'"
   ]
  },
  {
   "cell_type": "code",
   "execution_count": 17,
   "metadata": {},
   "outputs": [
    {
     "name": "stdout",
     "output_type": "stream",
     "text": [
      "{'first': 'Adam', 'last': 'Rollo'}\n"
     ]
    }
   ],
   "source": [
    "print(person)"
   ]
  },
  {
   "cell_type": "code",
   "execution_count": 18,
   "metadata": {},
   "outputs": [
    {
     "name": "stdout",
     "output_type": "stream",
     "text": [
      "Adam\n"
     ]
    }
   ],
   "source": [
    "print(person['first'])"
   ]
  },
  {
   "cell_type": "code",
   "execution_count": 19,
   "metadata": {
    "collapsed": true
   },
   "outputs": [],
   "source": [
    "import datetime\n",
    "\n",
    "def print_time():\n",
    "    print(datetime.datetime.now())"
   ]
  },
  {
   "cell_type": "code",
   "execution_count": 20,
   "metadata": {},
   "outputs": [
    {
     "name": "stdout",
     "output_type": "stream",
     "text": [
      "2019-10-05 20:41:35.381266\n"
     ]
    }
   ],
   "source": [
    "print_time()"
   ]
  },
  {
   "cell_type": "markdown",
   "metadata": {},
   "source": [
    "Functions demo"
   ]
  },
  {
   "cell_type": "code",
   "execution_count": 29,
   "metadata": {
    "collapsed": true
   },
   "outputs": [],
   "source": [
    "def get_initial(name,force_uppercase=True):\n",
    "    if force_uppercase:\n",
    "        return name[0:1].upper()\n",
    "    else:\n",
    "        return name[0:1]"
   ]
  },
  {
   "cell_type": "code",
   "execution_count": 30,
   "metadata": {},
   "outputs": [
    {
     "data": {
      "text/plain": [
       "'a'"
      ]
     },
     "execution_count": 30,
     "metadata": {},
     "output_type": "execute_result"
    }
   ],
   "source": [
    "get_initial('awang',False)"
   ]
  },
  {
   "cell_type": "code",
   "execution_count": 31,
   "metadata": {},
   "outputs": [
    {
     "name": "stdout",
     "output_type": "stream",
     "text": [
      "Enter your first name: alex\n"
     ]
    }
   ],
   "source": [
    "first_name = input('Enter your first name: ')"
   ]
  },
  {
   "cell_type": "code",
   "execution_count": 32,
   "metadata": {},
   "outputs": [
    {
     "name": "stdout",
     "output_type": "stream",
     "text": [
      "Enter your middle name: wang\n"
     ]
    }
   ],
   "source": [
    "middle_name = input('Enter your middle name: ')"
   ]
  },
  {
   "cell_type": "code",
   "execution_count": 33,
   "metadata": {},
   "outputs": [
    {
     "name": "stdout",
     "output_type": "stream",
     "text": [
      "Enter your last name: wei\n"
     ]
    }
   ],
   "source": [
    "last_name = input('Enter your last name: ')"
   ]
  },
  {
   "cell_type": "code",
   "execution_count": 35,
   "metadata": {},
   "outputs": [
    {
     "name": "stdout",
     "output_type": "stream",
     "text": [
      "Your initials are: AWW\n"
     ]
    }
   ],
   "source": [
    "print('Your initials are: ' + get_initial(first_name) + get_initial(middle_name) + get_initial(last_name))"
   ]
  },
  {
   "cell_type": "markdown",
   "metadata": {},
   "source": [
    "Modules & packages"
   ]
  },
  {
   "cell_type": "markdown",
   "metadata": {},
   "source": [
    "Always import a specific functions from a module / package, dont import all\n",
    "\n",
    "Environments\n",
    "\n",
    "Environment is just a folder in Python\n",
    "Virtualenv is the tool"
   ]
  },
  {
   "cell_type": "code",
   "execution_count": 39,
   "metadata": {},
   "outputs": [
    {
     "name": "stdout",
     "output_type": "stream",
     "text": [
      "{'color': {'dominantColorForeground': 'Red', 'dominantColorBackground': 'Green', 'dominantColors': ['Red', 'Green'], 'accentColor': 'C8032B', 'isBwImg': False, 'isBWImg': False}, 'description': {'tags': ['grass', 'outdoor', 'person', 'dog', 'animal', 'holding', 'little', 'looking', 'small', 'red', 'petting', 'standing', 'girl', 'wearing', 'woman', 'young', 'man', 'feeding', 'field', 'park', 'playing', 'kite'], 'captions': [{'text': 'a person petting a dog', 'confidence': 0.8734731476926983}]}, 'requestId': '587a6f10-9ec4-4ee1-86cf-a2a372fe466e', 'metadata': {'width': 1844, 'height': 1383, 'format': 'Jpeg'}}\n",
      "{\"color\": {\"dominantColorForeground\": \"Red\", \"dominantColorBackground\": \"Green\", \"dominantColors\": [\"Red\", \"Green\"], \"accentColor\": \"C8032B\", \"isBwImg\": false, \"isBWImg\": false}, \"description\": {\"tags\": [\"grass\", \"outdoor\", \"person\", \"dog\", \"animal\", \"holding\", \"little\", \"looking\", \"small\", \"red\", \"petting\", \"standing\", \"girl\", \"wearing\", \"woman\", \"young\", \"man\", \"feeding\", \"field\", \"park\", \"playing\", \"kite\"], \"captions\": [{\"text\": \"a person petting a dog\", \"confidence\": 0.8734731476926983}]}, \"requestId\": \"587a6f10-9ec4-4ee1-86cf-a2a372fe466e\", \"metadata\": {\"width\": 1844, \"height\": 1383, \"format\": \"Jpeg\"}}\n"
     ]
    }
   ],
   "source": [
    "# This code will show you how to call the Computer Vision API from Python\n",
    "# You can find documentation on the Computer Vision Analyze Image method here\n",
    "# https://westus.dev.cognitive.microsoft.com/docs/services/5adf991815e1060e6355ad44/operations/56f91f2e778daf14a499e1fa\n",
    "\n",
    "# Use the requests library to simplify making a REST API call from Python \n",
    "import requests\n",
    "\n",
    "# We will need the json library to read the data passed back \n",
    "# by the web service\n",
    "import json\n",
    "\n",
    "# You need to update the SUBSCRIPTION_KEY to \n",
    "# they key for your Computer Vision Service\n",
    "SUBSCRIPTION_KEY = \"93518d5325064364b299b40f0258e4c3\"\n",
    "\n",
    "# You need to update the vision_service_address to the address of\n",
    "# your Computer Vision Service\n",
    "vision_service_address = \"https://pythoncvanalyzer.cognitiveservices.azure.com/vision/v1.0/\"\n",
    "\n",
    "# Add the name of the function you want to call to the address\n",
    "address = vision_service_address + \"analyze\"\n",
    "\n",
    "# According to the documentation for the analyze image function \n",
    "# There are three optional parameters: language, details & visualFeatures\n",
    "parameters  = {'visualFeatures':'Description,Color',\n",
    "               'language':'en'}\n",
    "\n",
    "# Open the image file to get a file object containing the image to analyze\n",
    "image_path = \"./FeedingKangaroo.jpg\"\n",
    "image_data = open(image_path, \"rb\").read()\n",
    "\n",
    "# According to the documentation for the analyze image function\n",
    "# we need to specify the subscription key and the content type\n",
    "# in the HTTP header. Content-Type is application/octet-stream when you pass in a image directly\n",
    "headers    = {'Content-Type': 'application/octet-stream',\n",
    "              'Ocp-Apim-Subscription-Key': SUBSCRIPTION_KEY}\n",
    "\n",
    "# According to the documentation for the analyze image function\n",
    "# we use HTTP POST to call this function\n",
    "response = requests.post(address, headers=headers, params=parameters, data=image_data)\n",
    "\n",
    "# Raise an exception if the call returns an error code\n",
    "response.raise_for_status()\n",
    "\n",
    "# Display the JSON results returned\n",
    "results = response.json()\n",
    "print(results)\n",
    "print(json.dumps(results))"
   ]
  },
  {
   "cell_type": "code",
   "execution_count": null,
   "metadata": {
    "collapsed": true
   },
   "outputs": [],
   "source": []
  }
 ],
 "metadata": {
  "kernelspec": {
   "display_name": "Python 3",
   "language": "python",
   "name": "python3"
  },
  "language_info": {
   "codemirror_mode": {
    "name": "ipython",
    "version": 3
   },
   "file_extension": ".py",
   "mimetype": "text/x-python",
   "name": "python",
   "nbconvert_exporter": "python",
   "pygments_lexer": "ipython3",
   "version": "3.6.1"
  }
 },
 "nbformat": 4,
 "nbformat_minor": 2
}
